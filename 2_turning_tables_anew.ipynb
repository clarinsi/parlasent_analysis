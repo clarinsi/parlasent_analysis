{
 "cells": [
  {
   "cell_type": "code",
   "execution_count": 100,
   "metadata": {},
   "outputs": [],
   "source": [
    "import polars as pl"
   ]
  },
  {
   "cell_type": "code",
   "execution_count": null,
   "metadata": {},
   "outputs": [],
   "source": [
    "queries = []\n",
    "\n",
    "for f in \"AT BA BE BG CZ DK EE ES FI FR GB GR HR HU IS IT LV NL NO PL PT RS SE SI TR UA\".split():\n",
    "    q = (\n",
    "        pl.scan_ndjson(\n",
    "            f\"/cache/nikolal/parlasent/ParlaMint-{f}.meta.jsonl\",\n",
    "        )\n",
    "        .with_columns(country=pl.lit(f), len=pl.col(\"text\").str.len_chars())\n",
    "        .unnest(pl.col(\"metadata\"))\n",
    "        .select(\n",
    "            pl.col(\"len\"),\n",
    "            pl.col(\"logit\"),\n",
    "            pl.col(\"Speaker_MP\"),\n",
    "            pl.col(\"Speaker_role\"),\n",
    "            pl.col(\"Speaker_ID\"),\n",
    "            pl.col(\"Party_status\"),\n",
    "            pl.col(\"country\"),\n",
    "        )\n",
    "    )\n",
    "\n",
    "    queries.append(q)\n",
    "df = pl.concat(pl.collect_all(queries))\n",
    "\n",
    "df.limit(5)"
   ]
  },
  {
   "cell_type": "code",
   "execution_count": null,
   "metadata": {},
   "outputs": [],
   "source": [
    "df.select(pl.col(\"country\")).unique().sort(pl.col(\"country\"))\n"
   ]
  },
  {
   "cell_type": "code",
   "execution_count": null,
   "metadata": {},
   "outputs": [],
   "source": [
    "speakers_with_more_than_100_sentences = (\n",
    "    df.group_by(\"Speaker_ID\")\n",
    "    .agg(pl.col(\"logit\").count().alias(\"logitcount\"))\n",
    "    .filter(pl.col(\"logitcount\") > 100)\n",
    "    .select(pl.col(\"Speaker_ID\"))\n",
    ")\n",
    "\n",
    "df = df.filter(\n",
    "    pl.col(\"Speaker_ID\").is_in(speakers_with_more_than_100_sentences),\n",
    "    pl.col(\"Speaker_role\") != \"Chairperson\",\n",
    "    pl.col(\"Speaker_MP\") == \"MP\",\n",
    ")\n",
    "df.shape"
   ]
  },
  {
   "cell_type": "code",
   "execution_count": 107,
   "metadata": {},
   "outputs": [],
   "source": [
    "gb1 = (\n",
    "    df.group_by(\"Speaker_ID\", \"Party_status\")\n",
    "    .agg(\n",
    "        pl.col(\"logit\").dot(\"len\") / pl.sum(\"len\"),\n",
    "    )\n",
    "    .pivot(on=\"Party_status\", index=\"Speaker_ID\", values=\"logit\")\n",
    ")\n",
    "\n",
    "\n",
    "gb2 = df.group_by(\n",
    "    \"Speaker_ID\",\n",
    ").agg(\n",
    "    (pl.col(\"logit\").dot(\"len\") / pl.sum(\"len\")).alias(\"General\"),\n",
    "    pl.col(\"logit\").count().alias(\"num_sentences\"),\n",
    ")\n",
    "gb = (\n",
    "    gb1.join(gb2, on=\"Speaker_ID\")\n",
    "    .select(pl.exclude(\"-\"))\n",
    "    .drop_nulls()\n",
    "    .join(\n",
    "        df.select(\n",
    "            pl.col(\"country\"),\n",
    "            pl.col(\"Speaker_ID\"),\n",
    "        ),\n",
    "        on=\"Speaker_ID\",\n",
    "    )\n",
    ")\n"
   ]
  },
  {
   "cell_type": "code",
   "execution_count": null,
   "metadata": {},
   "outputs": [],
   "source": [
    "gb"
   ]
  },
  {
   "cell_type": "code",
   "execution_count": null,
   "metadata": {},
   "outputs": [],
   "source": []
  }
 ],
 "metadata": {
  "kernelspec": {
   "display_name": "parlasent",
   "language": "python",
   "name": "python3"
  },
  "language_info": {
   "codemirror_mode": {
    "name": "ipython",
    "version": 3
   },
   "file_extension": ".py",
   "mimetype": "text/x-python",
   "name": "python",
   "nbconvert_exporter": "python",
   "pygments_lexer": "ipython3",
   "version": "3.11.9"
  }
 },
 "nbformat": 4,
 "nbformat_minor": 2
}
