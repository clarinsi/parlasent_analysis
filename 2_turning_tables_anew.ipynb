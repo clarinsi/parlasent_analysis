{
 "cells": [
  {
   "cell_type": "code",
   "execution_count": 14,
   "metadata": {},
   "outputs": [],
   "source": [
    "import polars as pl"
   ]
  },
  {
   "cell_type": "code",
   "execution_count": 15,
   "metadata": {},
   "outputs": [
    {
     "data": {
      "text/html": [
       "<div><style>\n",
       ".dataframe > thead > tr,\n",
       ".dataframe > tbody > tr {\n",
       "  text-align: right;\n",
       "  white-space: pre-wrap;\n",
       "}\n",
       "</style>\n",
       "<small>shape: (5, 7)</small><table border=\"1\" class=\"dataframe\"><thead><tr><th>len</th><th>logit</th><th>Speaker_MP</th><th>Speaker_role</th><th>Speaker_ID</th><th>Party_status</th><th>country</th></tr><tr><td>u32</td><td>f64</td><td>str</td><td>str</td><td>str</td><td>str</td><td>str</td></tr></thead><tbody><tr><td>47</td><td>3.653868</td><td>&quot;MP&quot;</td><td>&quot;Chairperson&quot;</td><td>&quot;PAD_88386&quot;</td><td>&quot;Coalition&quot;</td><td>&quot;AT&quot;</td></tr><tr><td>109</td><td>2.15837</td><td>&quot;MP&quot;</td><td>&quot;Chairperson&quot;</td><td>&quot;PAD_88386&quot;</td><td>&quot;Coalition&quot;</td><td>&quot;AT&quot;</td></tr><tr><td>4</td><td>3.300054</td><td>&quot;MP&quot;</td><td>&quot;Chairperson&quot;</td><td>&quot;PAD_88386&quot;</td><td>&quot;Coalition&quot;</td><td>&quot;AT&quot;</td></tr><tr><td>40</td><td>3.191045</td><td>&quot;MP&quot;</td><td>&quot;Chairperson&quot;</td><td>&quot;PAD_88386&quot;</td><td>&quot;Coalition&quot;</td><td>&quot;AT&quot;</td></tr><tr><td>38</td><td>3.371469</td><td>&quot;MP&quot;</td><td>&quot;Chairperson&quot;</td><td>&quot;PAD_88386&quot;</td><td>&quot;Coalition&quot;</td><td>&quot;AT&quot;</td></tr></tbody></table></div>"
      ],
      "text/plain": [
       "shape: (5, 7)\n",
       "┌─────┬──────────┬────────────┬──────────────┬────────────┬──────────────┬─────────┐\n",
       "│ len ┆ logit    ┆ Speaker_MP ┆ Speaker_role ┆ Speaker_ID ┆ Party_status ┆ country │\n",
       "│ --- ┆ ---      ┆ ---        ┆ ---          ┆ ---        ┆ ---          ┆ ---     │\n",
       "│ u32 ┆ f64      ┆ str        ┆ str          ┆ str        ┆ str          ┆ str     │\n",
       "╞═════╪══════════╪════════════╪══════════════╪════════════╪══════════════╪═════════╡\n",
       "│ 47  ┆ 3.653868 ┆ MP         ┆ Chairperson  ┆ PAD_88386  ┆ Coalition    ┆ AT      │\n",
       "│ 109 ┆ 2.15837  ┆ MP         ┆ Chairperson  ┆ PAD_88386  ┆ Coalition    ┆ AT      │\n",
       "│ 4   ┆ 3.300054 ┆ MP         ┆ Chairperson  ┆ PAD_88386  ┆ Coalition    ┆ AT      │\n",
       "│ 40  ┆ 3.191045 ┆ MP         ┆ Chairperson  ┆ PAD_88386  ┆ Coalition    ┆ AT      │\n",
       "│ 38  ┆ 3.371469 ┆ MP         ┆ Chairperson  ┆ PAD_88386  ┆ Coalition    ┆ AT      │\n",
       "└─────┴──────────┴────────────┴──────────────┴────────────┴──────────────┴─────────┘"
      ]
     },
     "execution_count": 15,
     "metadata": {},
     "output_type": "execute_result"
    }
   ],
   "source": [
    "queries = []\n",
    "\n",
    "for f in \"AT BA BE BG CZ DK EE ES FI FR GB GR HR HU IS IT LV NL NO PL PT RS SE SI TR UA\".split():\n",
    "    q = (\n",
    "        pl.scan_ndjson(\n",
    "            f\"/cache/nikolal/parlasent/ParlaMint-{f}.meta.jsonl\",\n",
    "        )\n",
    "        .with_columns(country=pl.lit(f), len=pl.col(\"text\").str.len_chars())\n",
    "        .unnest(pl.col(\"metadata\"))\n",
    "        .select(\n",
    "            pl.col(\"len\"),\n",
    "            pl.col(\"logit\"),\n",
    "            pl.col(\"Speaker_MP\"),\n",
    "            pl.col(\"Speaker_role\"),\n",
    "            pl.col(\"Speaker_ID\"),\n",
    "            pl.col(\"Party_status\"),\n",
    "            pl.col(\"country\"),\n",
    "        )\n",
    "    )\n",
    "\n",
    "    queries.append(q)\n",
    "df = pl.concat(pl.collect_all(queries))\n",
    "\n",
    "df.limit(5)"
   ]
  },
  {
   "cell_type": "code",
   "execution_count": 16,
   "metadata": {},
   "outputs": [
    {
     "data": {
      "text/html": [
       "<div><style>\n",
       ".dataframe > thead > tr,\n",
       ".dataframe > tbody > tr {\n",
       "  text-align: right;\n",
       "  white-space: pre-wrap;\n",
       "}\n",
       "</style>\n",
       "<small>shape: (26, 1)</small><table border=\"1\" class=\"dataframe\"><thead><tr><th>country</th></tr><tr><td>str</td></tr></thead><tbody><tr><td>&quot;AT&quot;</td></tr><tr><td>&quot;BA&quot;</td></tr><tr><td>&quot;BE&quot;</td></tr><tr><td>&quot;BG&quot;</td></tr><tr><td>&quot;CZ&quot;</td></tr><tr><td>&hellip;</td></tr><tr><td>&quot;RS&quot;</td></tr><tr><td>&quot;SE&quot;</td></tr><tr><td>&quot;SI&quot;</td></tr><tr><td>&quot;TR&quot;</td></tr><tr><td>&quot;UA&quot;</td></tr></tbody></table></div>"
      ],
      "text/plain": [
       "shape: (26, 1)\n",
       "┌─────────┐\n",
       "│ country │\n",
       "│ ---     │\n",
       "│ str     │\n",
       "╞═════════╡\n",
       "│ AT      │\n",
       "│ BA      │\n",
       "│ BE      │\n",
       "│ BG      │\n",
       "│ CZ      │\n",
       "│ …       │\n",
       "│ RS      │\n",
       "│ SE      │\n",
       "│ SI      │\n",
       "│ TR      │\n",
       "│ UA      │\n",
       "└─────────┘"
      ]
     },
     "execution_count": 16,
     "metadata": {},
     "output_type": "execute_result"
    }
   ],
   "source": [
    "df.select(pl.col(\"country\")).unique().sort(pl.col(\"country\"))\n"
   ]
  },
  {
   "cell_type": "code",
   "execution_count": 17,
   "metadata": {},
   "outputs": [
    {
     "data": {
      "text/plain": [
       "(47396890, 7)"
      ]
     },
     "execution_count": 17,
     "metadata": {},
     "output_type": "execute_result"
    }
   ],
   "source": [
    "speakers_with_more_than_100_sentences = (\n",
    "    df.group_by(\"Speaker_ID\")\n",
    "    .agg(pl.col(\"logit\").count().alias(\"logitcount\"))\n",
    "    .filter(pl.col(\"logitcount\") > 100)\n",
    "    .select(pl.col(\"Speaker_ID\"))\n",
    ")\n",
    "\n",
    "df = df.filter(\n",
    "    pl.col(\"Speaker_ID\").is_in(speakers_with_more_than_100_sentences),\n",
    "    pl.col(\"Speaker_role\") != \"Chairperson\",\n",
    "    pl.col(\"Speaker_MP\") == \"MP\",\n",
    ")\n",
    "df.shape"
   ]
  },
  {
   "cell_type": "code",
   "execution_count": 55,
   "metadata": {},
   "outputs": [
    {
     "data": {
      "text/html": [
       "<div><style>\n",
       ".dataframe > thead > tr,\n",
       ".dataframe > tbody > tr {\n",
       "  text-align: right;\n",
       "  white-space: pre-wrap;\n",
       "}\n",
       "</style>\n",
       "<small>shape: (1_752, 6)</small><table border=\"1\" class=\"dataframe\"><thead><tr><th>country</th><th>Speaker_ID</th><th>General</th><th>Coalition</th><th>Opposition</th><th>num_sentences</th></tr><tr><td>str</td><td>str</td><td>f64</td><td>f64</td><td>f64</td><td>u32</td></tr></thead><tbody><tr><td>&quot;PT&quot;</td><td>&quot;IsabelMariaMousinhodeAlmeidaGa…</td><td>1.963599</td><td>3.106387</td><td>1.893432</td><td>1812</td></tr><tr><td>&quot;SI&quot;</td><td>&quot;MogeRudolf&quot;</td><td>1.895731</td><td>2.224799</td><td>1.72167</td><td>9934</td></tr><tr><td>&quot;PT&quot;</td><td>&quot;NilzaMaríliaMouzinhodeSena&quot;</td><td>1.705012</td><td>1.625739</td><td>1.71578</td><td>520</td></tr><tr><td>&quot;HR&quot;</td><td>&quot;HabekMario&quot;</td><td>1.988347</td><td>2.520753</td><td>1.649344</td><td>2247</td></tr><tr><td>&quot;ES&quot;</td><td>&quot;CarmenCalvoPoyato&quot;</td><td>2.020232</td><td>1.966734</td><td>2.112815</td><td>1620</td></tr><tr><td>&hellip;</td><td>&hellip;</td><td>&hellip;</td><td>&hellip;</td><td>&hellip;</td><td>&hellip;</td></tr><tr><td>&quot;SI&quot;</td><td>&quot;RugeljBojan&quot;</td><td>2.381377</td><td>2.381163</td><td>2.415186</td><td>1642</td></tr><tr><td>&quot;IT&quot;</td><td>&quot;BerardiRoberto&quot;</td><td>2.012537</td><td>2.745127</td><td>1.904571</td><td>297</td></tr><tr><td>&quot;SI&quot;</td><td>&quot;PučnikMateja&quot;</td><td>2.109586</td><td>2.680431</td><td>1.97649</td><td>1003</td></tr><tr><td>&quot;FI&quot;</td><td>&quot;TeuvoHakkarainen&quot;</td><td>1.571673</td><td>1.597999</td><td>1.480148</td><td>3918</td></tr><tr><td>&quot;ES&quot;</td><td>&quot;AnaBelénVázquezBlanco&quot;</td><td>0.886234</td><td>2.351914</td><td>0.632676</td><td>1530</td></tr></tbody></table></div>"
      ],
      "text/plain": [
       "shape: (1_752, 6)\n",
       "┌─────────┬─────────────────────────────────┬──────────┬───────────┬────────────┬───────────────┐\n",
       "│ country ┆ Speaker_ID                      ┆ General  ┆ Coalition ┆ Opposition ┆ num_sentences │\n",
       "│ ---     ┆ ---                             ┆ ---      ┆ ---       ┆ ---        ┆ ---           │\n",
       "│ str     ┆ str                             ┆ f64      ┆ f64       ┆ f64        ┆ u32           │\n",
       "╞═════════╪═════════════════════════════════╪══════════╪═══════════╪════════════╪═══════════════╡\n",
       "│ PT      ┆ IsabelMariaMousinhodeAlmeidaGa… ┆ 1.963599 ┆ 3.106387  ┆ 1.893432   ┆ 1812          │\n",
       "│ SI      ┆ MogeRudolf                      ┆ 1.895731 ┆ 2.224799  ┆ 1.72167    ┆ 9934          │\n",
       "│ PT      ┆ NilzaMaríliaMouzinhodeSena      ┆ 1.705012 ┆ 1.625739  ┆ 1.71578    ┆ 520           │\n",
       "│ HR      ┆ HabekMario                      ┆ 1.988347 ┆ 2.520753  ┆ 1.649344   ┆ 2247          │\n",
       "│ ES      ┆ CarmenCalvoPoyato               ┆ 2.020232 ┆ 1.966734  ┆ 2.112815   ┆ 1620          │\n",
       "│ …       ┆ …                               ┆ …        ┆ …         ┆ …          ┆ …             │\n",
       "│ SI      ┆ RugeljBojan                     ┆ 2.381377 ┆ 2.381163  ┆ 2.415186   ┆ 1642          │\n",
       "│ IT      ┆ BerardiRoberto                  ┆ 2.012537 ┆ 2.745127  ┆ 1.904571   ┆ 297           │\n",
       "│ SI      ┆ PučnikMateja                    ┆ 2.109586 ┆ 2.680431  ┆ 1.97649    ┆ 1003          │\n",
       "│ FI      ┆ TeuvoHakkarainen                ┆ 1.571673 ┆ 1.597999  ┆ 1.480148   ┆ 3918          │\n",
       "│ ES      ┆ AnaBelénVázquezBlanco           ┆ 0.886234 ┆ 2.351914  ┆ 0.632676   ┆ 1530          │\n",
       "└─────────┴─────────────────────────────────┴──────────┴───────────┴────────────┴───────────────┘"
      ]
     },
     "execution_count": 55,
     "metadata": {},
     "output_type": "execute_result"
    }
   ],
   "source": [
    "gb1 = (\n",
    "    df.group_by(\"Speaker_ID\", \"Party_status\")\n",
    "    .agg(\n",
    "        pl.col(\"logit\").dot(\"len\") / pl.sum(\"len\"),\n",
    "    )\n",
    "    .pivot(on=\"Party_status\", index=\"Speaker_ID\", values=\"logit\")\n",
    ")\n",
    "\n",
    "\n",
    "gb2 = (\n",
    "    df.group_by(\n",
    "        \"Speaker_ID\",\n",
    "    )\n",
    "    .agg(\n",
    "        (pl.col(\"logit\").dot(\"len\") / pl.sum(\"len\")).alias(\"General\"),\n",
    "        pl.col(\"logit\").count().alias(\"num_sentences\"),\n",
    "        pl.col(\"country\").mode(),\n",
    "    )\n",
    "    .with_columns(country=pl.col(\"country\").list[0])\n",
    ")\n",
    "\n",
    "\n",
    "per_speaker = (\n",
    "    gb1.join(\n",
    "        gb2,\n",
    "        on=\"Speaker_ID\",\n",
    "        how=\"left\",\n",
    "    )\n",
    "    .select(pl.exclude(\"-\"))\n",
    "    .drop_nulls()\n",
    "    .select(\n",
    "        pl.col(\"country\"),\n",
    "        pl.col(\"Speaker_ID\"),\n",
    "        pl.col(\"General\"),\n",
    "        pl.col(\"Coalition\"),\n",
    "        pl.col(\"Opposition\"),\n",
    "        pl.col(\"num_sentences\"),\n",
    "    )\n",
    ")\n",
    "\n",
    "per_speaker\n"
   ]
  },
  {
   "cell_type": "code",
   "execution_count": 56,
   "metadata": {},
   "outputs": [
    {
     "data": {
      "text/html": [
       "<div><style>\n",
       ".dataframe > thead > tr,\n",
       ".dataframe > tbody > tr {\n",
       "  text-align: right;\n",
       "  white-space: pre-wrap;\n",
       "}\n",
       "</style>\n",
       "<small>shape: (73, 6)</small><table border=\"1\" class=\"dataframe\"><thead><tr><th>country</th><th>Speaker_ID</th><th>General</th><th>Coalition</th><th>Opposition</th><th>num_sentences</th></tr><tr><td>str</td><td>str</td><td>f64</td><td>f64</td><td>f64</td><td>u32</td></tr></thead><tbody><tr><td>&quot;AT&quot;</td><td>&quot;PAD_01079&quot;</td><td>2.305509</td><td>2.563825</td><td>1.979034</td><td>4044</td></tr><tr><td>&quot;AT&quot;</td><td>&quot;PAD_01153&quot;</td><td>2.235469</td><td>2.626971</td><td>1.840278</td><td>2462</td></tr><tr><td>&quot;AT&quot;</td><td>&quot;PAD_06997&quot;</td><td>1.616327</td><td>2.456752</td><td>1.474798</td><td>3287</td></tr><tr><td>&quot;AT&quot;</td><td>&quot;PAD_05098&quot;</td><td>1.777877</td><td>2.063451</td><td>1.765631</td><td>4846</td></tr><tr><td>&quot;AT&quot;</td><td>&quot;PAD_83101&quot;</td><td>2.282554</td><td>2.681769</td><td>1.722246</td><td>5783</td></tr><tr><td>&hellip;</td><td>&hellip;</td><td>&hellip;</td><td>&hellip;</td><td>&hellip;</td><td>&hellip;</td></tr><tr><td>&quot;AT&quot;</td><td>&quot;PAD_00601&quot;</td><td>2.614693</td><td>2.910295</td><td>2.043898</td><td>3583</td></tr><tr><td>&quot;AT&quot;</td><td>&quot;PAD_78586&quot;</td><td>1.372861</td><td>2.241495</td><td>1.244675</td><td>6689</td></tr><tr><td>&quot;AT&quot;</td><td>&quot;PAD_22694&quot;</td><td>1.436553</td><td>0.975549</td><td>1.439791</td><td>6305</td></tr><tr><td>&quot;AT&quot;</td><td>&quot;PAD_02009&quot;</td><td>2.226536</td><td>2.617892</td><td>1.791423</td><td>4816</td></tr><tr><td>&quot;AT&quot;</td><td>&quot;PAD_04477&quot;</td><td>1.823297</td><td>2.350155</td><td>1.342068</td><td>10162</td></tr></tbody></table></div>"
      ],
      "text/plain": [
       "shape: (73, 6)\n",
       "┌─────────┬────────────┬──────────┬───────────┬────────────┬───────────────┐\n",
       "│ country ┆ Speaker_ID ┆ General  ┆ Coalition ┆ Opposition ┆ num_sentences │\n",
       "│ ---     ┆ ---        ┆ ---      ┆ ---       ┆ ---        ┆ ---           │\n",
       "│ str     ┆ str        ┆ f64      ┆ f64       ┆ f64        ┆ u32           │\n",
       "╞═════════╪════════════╪══════════╪═══════════╪════════════╪═══════════════╡\n",
       "│ AT      ┆ PAD_01079  ┆ 2.305509 ┆ 2.563825  ┆ 1.979034   ┆ 4044          │\n",
       "│ AT      ┆ PAD_01153  ┆ 2.235469 ┆ 2.626971  ┆ 1.840278   ┆ 2462          │\n",
       "│ AT      ┆ PAD_06997  ┆ 1.616327 ┆ 2.456752  ┆ 1.474798   ┆ 3287          │\n",
       "│ AT      ┆ PAD_05098  ┆ 1.777877 ┆ 2.063451  ┆ 1.765631   ┆ 4846          │\n",
       "│ AT      ┆ PAD_83101  ┆ 2.282554 ┆ 2.681769  ┆ 1.722246   ┆ 5783          │\n",
       "│ …       ┆ …          ┆ …        ┆ …         ┆ …          ┆ …             │\n",
       "│ AT      ┆ PAD_00601  ┆ 2.614693 ┆ 2.910295  ┆ 2.043898   ┆ 3583          │\n",
       "│ AT      ┆ PAD_78586  ┆ 1.372861 ┆ 2.241495  ┆ 1.244675   ┆ 6689          │\n",
       "│ AT      ┆ PAD_22694  ┆ 1.436553 ┆ 0.975549  ┆ 1.439791   ┆ 6305          │\n",
       "│ AT      ┆ PAD_02009  ┆ 2.226536 ┆ 2.617892  ┆ 1.791423   ┆ 4816          │\n",
       "│ AT      ┆ PAD_04477  ┆ 1.823297 ┆ 2.350155  ┆ 1.342068   ┆ 10162         │\n",
       "└─────────┴────────────┴──────────┴───────────┴────────────┴───────────────┘"
      ]
     },
     "execution_count": 56,
     "metadata": {},
     "output_type": "execute_result"
    }
   ],
   "source": [
    "per_speaker.filter(pl.col(\"country\") == \"AT\")"
   ]
  },
  {
   "cell_type": "code",
   "execution_count": 65,
   "metadata": {},
   "outputs": [
    {
     "data": {
      "text/html": [
       "<div><style>\n",
       ".dataframe > thead > tr,\n",
       ".dataframe > tbody > tr {\n",
       "  text-align: right;\n",
       "  white-space: pre-wrap;\n",
       "}\n",
       "</style>\n",
       "<small>shape: (17, 3)</small><table border=\"1\" class=\"dataframe\"><thead><tr><th>country</th><th>count</th><th>Difference</th></tr><tr><td>str</td><td>u32</td><td>f64</td></tr></thead><tbody><tr><td>&quot;AT&quot;</td><td>73</td><td>0.737479</td></tr><tr><td>&quot;BA&quot;</td><td>16</td><td>-0.041224</td></tr><tr><td>&quot;BE&quot;</td><td>88</td><td>0.264336</td></tr><tr><td>&quot;BG&quot;</td><td>53</td><td>0.574203</td></tr><tr><td>&quot;CZ&quot;</td><td>91</td><td>0.619173</td></tr><tr><td>&hellip;</td><td>&hellip;</td><td>&hellip;</td></tr><tr><td>&quot;NL&quot;</td><td>14</td><td>0.262446</td></tr><tr><td>&quot;PT&quot;</td><td>137</td><td>0.79255</td></tr><tr><td>&quot;RS&quot;</td><td>112</td><td>0.129075</td></tr><tr><td>&quot;SI&quot;</td><td>207</td><td>0.351458</td></tr><tr><td>&quot;UA&quot;</td><td>266</td><td>0.439929</td></tr></tbody></table></div>"
      ],
      "text/plain": [
       "shape: (17, 3)\n",
       "┌─────────┬───────┬────────────┐\n",
       "│ country ┆ count ┆ Difference │\n",
       "│ ---     ┆ ---   ┆ ---        │\n",
       "│ str     ┆ u32   ┆ f64        │\n",
       "╞═════════╪═══════╪════════════╡\n",
       "│ AT      ┆ 73    ┆ 0.737479   │\n",
       "│ BA      ┆ 16    ┆ -0.041224  │\n",
       "│ BE      ┆ 88    ┆ 0.264336   │\n",
       "│ BG      ┆ 53    ┆ 0.574203   │\n",
       "│ CZ      ┆ 91    ┆ 0.619173   │\n",
       "│ …       ┆ …     ┆ …          │\n",
       "│ NL      ┆ 14    ┆ 0.262446   │\n",
       "│ PT      ┆ 137   ┆ 0.79255    │\n",
       "│ RS      ┆ 112   ┆ 0.129075   │\n",
       "│ SI      ┆ 207   ┆ 0.351458   │\n",
       "│ UA      ┆ 266   ┆ 0.439929   │\n",
       "└─────────┴───────┴────────────┘"
      ]
     },
     "execution_count": 65,
     "metadata": {},
     "output_type": "execute_result"
    }
   ],
   "source": [
    "per_country = (\n",
    "    per_speaker.with_columns(Difference=pl.col(\"Coalition\") - pl.col(\"Opposition\"))\n",
    "    .group_by(\"country\")\n",
    "    .agg([pl.count(\"Speaker_ID\").alias(\"count\"), pl.mean(\"Difference\")])\n",
    "    .filter(pl.col(\"count\") >= 10)\n",
    "    .sort(\"country\")\n",
    ")\n",
    "\n",
    "per_country"
   ]
  },
  {
   "cell_type": "code",
   "execution_count": 77,
   "metadata": {},
   "outputs": [
    {
     "data": {
      "text/html": [
       "<div><style>\n",
       ".dataframe > thead > tr,\n",
       ".dataframe > tbody > tr {\n",
       "  text-align: right;\n",
       "  white-space: pre-wrap;\n",
       "}\n",
       "</style>\n",
       "<small>shape: (17, 4)</small><table border=\"1\" class=\"dataframe\"><thead><tr><th>country</th><th>count</th><th>Difference</th><th>iso3</th></tr><tr><td>str</td><td>u32</td><td>f64</td><td>str</td></tr></thead><tbody><tr><td>&quot;AT&quot;</td><td>73</td><td>0.737479</td><td>&quot;AUT&quot;</td></tr><tr><td>&quot;BA&quot;</td><td>16</td><td>-0.041224</td><td>&quot;BIH&quot;</td></tr><tr><td>&quot;BE&quot;</td><td>88</td><td>0.264336</td><td>&quot;BEL&quot;</td></tr><tr><td>&quot;BG&quot;</td><td>53</td><td>0.574203</td><td>&quot;BGR&quot;</td></tr><tr><td>&quot;CZ&quot;</td><td>91</td><td>0.619173</td><td>&quot;CZE&quot;</td></tr><tr><td>&hellip;</td><td>&hellip;</td><td>&hellip;</td><td>&hellip;</td></tr><tr><td>&quot;NL&quot;</td><td>14</td><td>0.262446</td><td>&quot;NLD&quot;</td></tr><tr><td>&quot;PT&quot;</td><td>137</td><td>0.79255</td><td>&quot;PRT&quot;</td></tr><tr><td>&quot;RS&quot;</td><td>112</td><td>0.129075</td><td>&quot;SRB&quot;</td></tr><tr><td>&quot;SI&quot;</td><td>207</td><td>0.351458</td><td>&quot;SVN&quot;</td></tr><tr><td>&quot;UA&quot;</td><td>266</td><td>0.439929</td><td>&quot;UKR&quot;</td></tr></tbody></table></div>"
      ],
      "text/plain": [
       "shape: (17, 4)\n",
       "┌─────────┬───────┬────────────┬──────┐\n",
       "│ country ┆ count ┆ Difference ┆ iso3 │\n",
       "│ ---     ┆ ---   ┆ ---        ┆ ---  │\n",
       "│ str     ┆ u32   ┆ f64        ┆ str  │\n",
       "╞═════════╪═══════╪════════════╪══════╡\n",
       "│ AT      ┆ 73    ┆ 0.737479   ┆ AUT  │\n",
       "│ BA      ┆ 16    ┆ -0.041224  ┆ BIH  │\n",
       "│ BE      ┆ 88    ┆ 0.264336   ┆ BEL  │\n",
       "│ BG      ┆ 53    ┆ 0.574203   ┆ BGR  │\n",
       "│ CZ      ┆ 91    ┆ 0.619173   ┆ CZE  │\n",
       "│ …       ┆ …     ┆ …          ┆ …    │\n",
       "│ NL      ┆ 14    ┆ 0.262446   ┆ NLD  │\n",
       "│ PT      ┆ 137   ┆ 0.79255    ┆ PRT  │\n",
       "│ RS      ┆ 112   ┆ 0.129075   ┆ SRB  │\n",
       "│ SI      ┆ 207   ┆ 0.351458   ┆ SVN  │\n",
       "│ UA      ┆ 266   ┆ 0.439929   ┆ UKR  │\n",
       "└─────────┴───────┴────────────┴──────┘"
      ]
     },
     "execution_count": 77,
     "metadata": {},
     "output_type": "execute_result"
    }
   ],
   "source": [
    "from iso3166 import countries\n",
    "\n",
    "iso2_to_iso3_mapper = {c.alpha2: c.alpha3 for c in countries}\n",
    "\n",
    "per_country = per_country.with_columns(\n",
    "    iso3=pl.col(\"country\").replace_strict(iso2_to_iso3_mapper)\n",
    ")\n",
    "per_country"
   ]
  },
  {
   "cell_type": "code",
   "execution_count": 74,
   "metadata": {},
   "outputs": [
    {
     "data": {
      "text/plain": [
       "'1.7.1'"
      ]
     },
     "execution_count": 74,
     "metadata": {},
     "output_type": "execute_result"
    }
   ],
   "source": [
    "pl.__version__"
   ]
  }
 ],
 "metadata": {
  "kernelspec": {
   "display_name": "parlasent",
   "language": "python",
   "name": "python3"
  },
  "language_info": {
   "codemirror_mode": {
    "name": "ipython",
    "version": 3
   },
   "file_extension": ".py",
   "mimetype": "text/x-python",
   "name": "python",
   "nbconvert_exporter": "python",
   "pygments_lexer": "ipython3",
   "version": "3.11.9"
  }
 },
 "nbformat": 4,
 "nbformat_minor": 2
}
