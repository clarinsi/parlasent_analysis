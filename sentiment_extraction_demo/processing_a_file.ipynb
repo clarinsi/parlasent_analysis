{
 "cells": [
  {
   "cell_type": "markdown",
   "metadata": {},
   "source": [
    "Download a single country from [ParlaMint-4.0](https://www.clarin.si/repository/xmlui/handle/11356/1859):"
   ]
  },
  {
   "cell_type": "code",
   "execution_count": null,
   "metadata": {},
   "outputs": [],
   "source": [
    "! curl --remote-name-all https://www.clarin.si/repository/xmlui/bitstream/handle/11356/1859/ParlaMint-BA.tgz"
   ]
  },
  {
   "cell_type": "markdown",
   "metadata": {},
   "source": [
    "Uncompress the files:"
   ]
  },
  {
   "cell_type": "code",
   "execution_count": null,
   "metadata": {},
   "outputs": [],
   "source": [
    "! tar -xzvf ParlaMint-BA.tgz"
   ]
  },
  {
   "cell_type": "markdown",
   "metadata": {},
   "source": [
    "Let's open a single file, split it into sentences, and assign sentiment to them:"
   ]
  },
  {
   "cell_type": "code",
   "execution_count": 1,
   "metadata": {},
   "outputs": [],
   "source": [
    "\n",
    "import pandas as pd\n",
    "\n",
    "df = pd.read_csv(\"ParlaMint-BA.txt/1998/ParlaMint-BA_1998-11-26-0.txt\", sep=\"\\t\", names=[\"utterance\", \"text\"])"
   ]
  },
  {
   "cell_type": "code",
   "execution_count": null,
   "metadata": {},
   "outputs": [],
   "source": [
    "!pip install classla"
   ]
  },
  {
   "cell_type": "code",
   "execution_count": 2,
   "metadata": {},
   "outputs": [
    {
     "name": "stderr",
     "output_type": "stream",
     "text": [
      "Downloading https://raw.githubusercontent.com/clarinsi/classla-resources/main/resources_1.0.1.json: 10.3kB [00:00, 10.8MB/s]                   \n",
      "2024-06-10 10:19:42 INFO: Downloading these customized packages for language: hr (Croatian)...\n",
      "========================\n",
      "| Processor | Package  |\n",
      "------------------------\n",
      "| tokenize  | standard |\n",
      "| pos       | standard |\n",
      "| lemma     | standard |\n",
      "| depparse  | standard |\n",
      "| ner       | standard |\n",
      "| pretrain  | standard |\n",
      "========================\n",
      "\n",
      "2024-06-10 10:19:42 INFO: File exists: /home/peterr/classla_resources/hr/pos/standard.pt.\n",
      "2024-06-10 10:19:43 INFO: File exists: /home/peterr/classla_resources/hr/lemma/standard.pt.\n",
      "2024-06-10 10:19:43 INFO: File exists: /home/peterr/classla_resources/hr/depparse/standard.pt.\n",
      "2024-06-10 10:19:43 INFO: File exists: /home/peterr/classla_resources/hr/ner/standard.pt.\n",
      "2024-06-10 10:19:44 INFO: File exists: /home/peterr/classla_resources/hr/pretrain/standard.pt.\n",
      "2024-06-10 10:19:44 INFO: Finished downloading models and saved to /home/peterr/classla_resources.\n",
      "2024-06-10 10:19:44 INFO: Loading these models for language: hr (Croatian):\n",
      "========================\n",
      "| Processor | Package  |\n",
      "------------------------\n",
      "| tokenize  | standard |\n",
      "| pos       | standard |\n",
      "| lemma     | standard |\n",
      "| depparse  | standard |\n",
      "| ner       | standard |\n",
      "========================\n",
      "\n",
      "2024-06-10 10:19:44 INFO: Use device: gpu\n",
      "2024-06-10 10:19:44 INFO: Loading: tokenize\n",
      "2024-06-10 10:19:44 INFO: Loading: pos\n",
      "2024-06-10 10:19:46 INFO: Loading: lemma\n",
      "2024-06-10 10:19:51 INFO: Loading: depparse\n",
      "2024-06-10 10:19:52 INFO: Loading: ner\n",
      "2024-06-10 10:19:52 INFO: Done loading processors!\n"
     ]
    }
   ],
   "source": [
    "import classla\n",
    "\n",
    "classla.download(\"hr\")\n",
    "nlp = classla.Pipeline(\"hr\")\n",
    "doc = nlp(df.text[0])\n"
   ]
  },
  {
   "cell_type": "code",
   "execution_count": 5,
   "metadata": {},
   "outputs": [],
   "source": [
    "from conllu import parse\n",
    "\n",
    "parsed = parse(doc.to_conll())"
   ]
  },
  {
   "cell_type": "code",
   "execution_count": 8,
   "metadata": {},
   "outputs": [
    {
     "data": {
      "text/plain": [
       "{'newpar id': '1',\n",
       " 'sent_id': '1.1',\n",
       " 'text': 'Dame i gospodo predlažem da počnemo sa radom.'}"
      ]
     },
     "execution_count": 8,
     "metadata": {},
     "output_type": "execute_result"
    }
   ],
   "source": [
    "parsed[0].metadata"
   ]
  },
  {
   "cell_type": "code",
   "execution_count": null,
   "metadata": {},
   "outputs": [],
   "source": []
  }
 ],
 "metadata": {
  "kernelspec": {
   "display_name": "base",
   "language": "python",
   "name": "python3"
  },
  "language_info": {
   "codemirror_mode": {
    "name": "ipython",
    "version": 3
   },
   "file_extension": ".py",
   "mimetype": "text/x-python",
   "name": "python",
   "nbconvert_exporter": "python",
   "pygments_lexer": "ipython3",
   "version": "3.12.3"
  }
 },
 "nbformat": 4,
 "nbformat_minor": 2
}
